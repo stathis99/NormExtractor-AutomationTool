{
 "cells": [
  {
   "cell_type": "code",
   "execution_count": 8,
   "id": "51a69711",
   "metadata": {},
   "outputs": [],
   "source": [
    "#! pip install datasets seqeval pandas transformers numpy torch ipywidgets\n",
    "import pandas as pd\n",
    "#!pip install datasets\n",
    "from datasets import Dataset, DatasetDict"
   ]
  },
  {
   "cell_type": "code",
   "execution_count": 9,
   "id": "59ce9858",
   "metadata": {},
   "outputs": [],
   "source": [
    "import torch\n",
    "#!pip install transformers\n",
    "#!pip install --upgrade pip\n",
    "from ipywidgets import IntProgress\n",
    "import ast\n",
    "from transformers import AutoModelForTokenClassification, TrainingArguments, Trainer, PreTrainedModel\n",
    "import itertools"
   ]
  },
  {
   "cell_type": "code",
   "execution_count": 10,
   "id": "49c5a8b4",
   "metadata": {},
   "outputs": [],
   "source": [
    "from transformers import DataCollatorForTokenClassification\n",
    "from datasets import load_metric\n",
    "import numpy as np\n",
    "from sklearn.model_selection import train_test_split\n",
    "import string\n",
    "import csv\n",
    "import collections"
   ]
  },
  {
   "cell_type": "markdown",
   "id": "f820c333",
   "metadata": {},
   "source": [
    "### Load Dataset"
   ]
  },
  {
   "cell_type": "code",
   "execution_count": 11,
   "id": "62944627",
   "metadata": {},
   "outputs": [],
   "source": [
    " def read_csv_to_df(csv_file):\n",
    "    #dataframe = pd.read_csv(csv_file, sep = \",\")\n",
    "    dataframe = pd.read_csv(csv_file, sep = \",\", converters={'tokens': eval, 'srl_tags': eval})\n",
    "    return dataframe"
   ]
  },
  {
   "cell_type": "code",
   "execution_count": 13,
   "id": "13941508",
   "metadata": {
    "scrolled": true
   },
   "outputs": [
    {
     "data": {
      "text/html": [
       "<div>\n",
       "<style scoped>\n",
       "    .dataframe tbody tr th:only-of-type {\n",
       "        vertical-align: middle;\n",
       "    }\n",
       "\n",
       "    .dataframe tbody tr th {\n",
       "        vertical-align: top;\n",
       "    }\n",
       "\n",
       "    .dataframe thead th {\n",
       "        text-align: right;\n",
       "    }\n",
       "</style>\n",
       "<table border=\"1\" class=\"dataframe\">\n",
       "  <thead>\n",
       "    <tr style=\"text-align: right;\">\n",
       "      <th></th>\n",
       "      <th>sentence_id</th>\n",
       "      <th>tokens</th>\n",
       "      <th>srl_tags</th>\n",
       "    </tr>\n",
       "  </thead>\n",
       "  <tbody>\n",
       "    <tr>\n",
       "      <th>0</th>\n",
       "      <td>7-Capital_Requirements</td>\n",
       "      <td>[Significant, subsidiaries, of, EU, parent, fi...</td>\n",
       "      <td>[Actor, Actor, Actor, Actor, Actor, Actor, Act...</td>\n",
       "    </tr>\n",
       "    <tr>\n",
       "      <th>1</th>\n",
       "      <td>19-Capital_Requirements</td>\n",
       "      <td>[Power, is, delegated, to, the, Commission, to...</td>\n",
       "      <td>[Object, Action, Action, Recipient, Recipient,...</td>\n",
       "    </tr>\n",
       "    <tr>\n",
       "      <th>2</th>\n",
       "      <td>42-Capital_Requirements</td>\n",
       "      <td>[For, the, purposes, of, calculating, own, fun...</td>\n",
       "      <td>[O, O, O, O, O, O, O, O, O, O, O, O, O, O, O, ...</td>\n",
       "    </tr>\n",
       "    <tr>\n",
       "      <th>3</th>\n",
       "      <td>55-Capital_Requirements</td>\n",
       "      <td>[Where, an, institution, fails, to, meet, the,...</td>\n",
       "      <td>[O, O, O, O, O, O, O, O, O, O, O, O, O, O, O, ...</td>\n",
       "    </tr>\n",
       "    <tr>\n",
       "      <th>4</th>\n",
       "      <td>68-Capital_Requirements</td>\n",
       "      <td>[Verification, of, market, prices, and, model,...</td>\n",
       "      <td>[Object, Object, Object, Object, Object, Objec...</td>\n",
       "    </tr>\n",
       "    <tr>\n",
       "      <th>...</th>\n",
       "      <td>...</td>\n",
       "      <td>...</td>\n",
       "      <td>...</td>\n",
       "    </tr>\n",
       "    <tr>\n",
       "      <th>1534</th>\n",
       "      <td>91-Food_Safety</td>\n",
       "      <td>[The, implementing, rules, for, the, applicati...</td>\n",
       "      <td>[Object, Object, Object, Object, Object, Objec...</td>\n",
       "    </tr>\n",
       "    <tr>\n",
       "      <th>1535</th>\n",
       "      <td>96-GDPR</td>\n",
       "      <td>[That, contract, or, other, legal, act, shall,...</td>\n",
       "      <td>[O, O, O, O, O, O, O, O, ,, O, O, ,, O, Actor,...</td>\n",
       "    </tr>\n",
       "    <tr>\n",
       "      <th>1536</th>\n",
       "      <td>98-Digital_Service_Act</td>\n",
       "      <td>[Providers, of, very, large, online, platforms...</td>\n",
       "      <td>[Actor, Actor, Actor, Actor, Actor, Actor, Act...</td>\n",
       "    </tr>\n",
       "    <tr>\n",
       "      <th>1537</th>\n",
       "      <td>98-Food_Safety</td>\n",
       "      <td>[The, members, of, the, Management, Board, ,, ...</td>\n",
       "      <td>[Actor, Actor, Actor, Actor, Actor, Actor, Act...</td>\n",
       "    </tr>\n",
       "    <tr>\n",
       "      <th>1538</th>\n",
       "      <td>98-GDPR</td>\n",
       "      <td>[Where, a, processor, engages, another, proces...</td>\n",
       "      <td>[O, O, O, O, O, O, O, O, O, O, O, O, O, O, O, ...</td>\n",
       "    </tr>\n",
       "  </tbody>\n",
       "</table>\n",
       "<p>1539 rows × 3 columns</p>\n",
       "</div>"
      ],
      "text/plain": [
       "                  sentence_id  \\\n",
       "0      7-Capital_Requirements   \n",
       "1     19-Capital_Requirements   \n",
       "2     42-Capital_Requirements   \n",
       "3     55-Capital_Requirements   \n",
       "4     68-Capital_Requirements   \n",
       "...                       ...   \n",
       "1534           91-Food_Safety   \n",
       "1535                  96-GDPR   \n",
       "1536   98-Digital_Service_Act   \n",
       "1537           98-Food_Safety   \n",
       "1538                  98-GDPR   \n",
       "\n",
       "                                                 tokens  \\\n",
       "0     [Significant, subsidiaries, of, EU, parent, fi...   \n",
       "1     [Power, is, delegated, to, the, Commission, to...   \n",
       "2     [For, the, purposes, of, calculating, own, fun...   \n",
       "3     [Where, an, institution, fails, to, meet, the,...   \n",
       "4     [Verification, of, market, prices, and, model,...   \n",
       "...                                                 ...   \n",
       "1534  [The, implementing, rules, for, the, applicati...   \n",
       "1535  [That, contract, or, other, legal, act, shall,...   \n",
       "1536  [Providers, of, very, large, online, platforms...   \n",
       "1537  [The, members, of, the, Management, Board, ,, ...   \n",
       "1538  [Where, a, processor, engages, another, proces...   \n",
       "\n",
       "                                               srl_tags  \n",
       "0     [Actor, Actor, Actor, Actor, Actor, Actor, Act...  \n",
       "1     [Object, Action, Action, Recipient, Recipient,...  \n",
       "2     [O, O, O, O, O, O, O, O, O, O, O, O, O, O, O, ...  \n",
       "3     [O, O, O, O, O, O, O, O, O, O, O, O, O, O, O, ...  \n",
       "4     [Object, Object, Object, Object, Object, Objec...  \n",
       "...                                                 ...  \n",
       "1534  [Object, Object, Object, Object, Object, Objec...  \n",
       "1535  [O, O, O, O, O, O, O, O, ,, O, O, ,, O, Actor,...  \n",
       "1536  [Actor, Actor, Actor, Actor, Actor, Actor, Act...  \n",
       "1537  [Actor, Actor, Actor, Actor, Actor, Actor, Act...  \n",
       "1538  [O, O, O, O, O, O, O, O, O, O, O, O, O, O, O, ...  \n",
       "\n",
       "[1539 rows x 3 columns]"
      ]
     },
     "execution_count": 13,
     "metadata": {},
     "output_type": "execute_result"
    }
   ],
   "source": [
    "import os\n",
    "tagged_file = os.path.abspath(\"C:/Users/dimts/Desktop/GitHub/DSP-Norm_Extractor/src/data/train_data/final_filtered_annotations.csv\")\n",
    "dataframe = read_csv_to_df(tagged_file)\n",
    "df_to_train = dataframe[['sentence_id', 'tokens', 'srl_tags']]\n",
    "df_to_train"
   ]
  },
  {
   "cell_type": "markdown",
   "id": "a4fc07bc",
   "metadata": {},
   "source": [
    "### Pre-process"
   ]
  },
  {
   "cell_type": "code",
   "execution_count": null,
   "id": "33d67023",
   "metadata": {},
   "outputs": [],
   "source": []
  },
  {
   "cell_type": "code",
   "execution_count": null,
   "id": "ac14c03f",
   "metadata": {},
   "outputs": [],
   "source": []
  },
  {
   "cell_type": "code",
   "execution_count": 14,
   "id": "5f072df8",
   "metadata": {},
   "outputs": [
    {
     "name": "stderr",
     "output_type": "stream",
     "text": [
      "C:\\Users\\dimts\\AppData\\Local\\Temp\\ipykernel_14728\\721737412.py:11: SettingWithCopyWarning: \n",
      "A value is trying to be set on a copy of a slice from a DataFrame\n",
      "\n",
      "See the caveats in the documentation: https://pandas.pydata.org/pandas-docs/stable/user_guide/indexing.html#returning-a-view-versus-a-copy\n",
      "  df_to_train.rename(columns={'srl_tags': 'srl_tags_name'}, inplace=True)\n",
      "C:\\Users\\dimts\\AppData\\Local\\Temp\\ipykernel_14728\\721737412.py:19: SettingWithCopyWarning: \n",
      "A value is trying to be set on a copy of a slice from a DataFrame.\n",
      "Try using .loc[row_indexer,col_indexer] = value instead\n",
      "\n",
      "See the caveats in the documentation: https://pandas.pydata.org/pandas-docs/stable/user_guide/indexing.html#returning-a-view-versus-a-copy\n",
      "  df_to_train['srl_tags'] = srl_tags_numbers\n"
     ]
    }
   ],
   "source": [
    " # creating new column with numbers for srl tags instead of text\n",
    "\n",
    "## 1. create a dict to store translation srl_tags --> numbers\n",
    "srl_keys={\"O\": 0,\n",
    "          \"Action\": 1,\n",
    "          \"Actor\": 2,\n",
    "          \"Object\": 3,\n",
    "          \"Recipient\": 4}\n",
    "\n",
    "## 2. rename the srl_tags column to srl_tags_name\n",
    "df_to_train.rename(columns={'srl_tags': 'srl_tags_name'}, inplace=True)\n",
    "\n",
    "## 3. map the srl tags to numbers \n",
    "srl_tags_numbers = []\n",
    "for index, row in df_to_train.iterrows():\n",
    "    srl_tags_numbers.append([srl_keys.get(item) for item in row['srl_tags_name']])\n",
    "\n",
    "## 4. create a new column with the numbers  \n",
    "df_to_train['srl_tags'] = srl_tags_numbers"
   ]
  },
  {
   "cell_type": "code",
   "execution_count": 15,
   "id": "59c40b0a",
   "metadata": {},
   "outputs": [
    {
     "name": "stdout",
     "output_type": "stream",
     "text": [
      "{'actor': 1370, 'object': 1406, 'verb': 1536, 'recipient': 457}\n"
     ]
    }
   ],
   "source": [
    "# print(df_to_train)\n",
    "\n",
    "# count role distribution in training data\n",
    "role_counts = dict()\n",
    "occurence_count = 0\n",
    "for sentence in df_to_train['srl_tags_name']:\n",
    "    occurences = collections.Counter(sentence)\n",
    "    occurence_count = occurence_count + 1\n",
    "    if occurences['Actor'] > 0:\n",
    "        role_counts['actor'] = role_counts.setdefault('actor', 0) + 1\n",
    "    if occurences['Object'] > 0:\n",
    "        role_counts['object'] = role_counts.setdefault('object', 0) + 1\n",
    "    if occurences['Recipient'] > 0:\n",
    "        role_counts['recipient'] = role_counts.setdefault('recipient', 0) + 1\n",
    "    if occurences['Action'] > 0:\n",
    "        role_counts['verb'] = role_counts.setdefault('verb', 0) + 1          \n",
    "\n",
    "print(role_counts)"
   ]
  },
  {
   "cell_type": "markdown",
   "id": "3ccf62d8",
   "metadata": {},
   "source": [
    "### Convert to Dataset"
   ]
  },
  {
   "cell_type": "code",
   "execution_count": 16,
   "id": "818a4a3f",
   "metadata": {},
   "outputs": [
    {
     "name": "stdout",
     "output_type": "stream",
     "text": [
      "Dataset({\n",
      "    features: ['sentence_id', 'tokens', 'srl_tags_name', 'srl_tags'],\n",
      "    num_rows: 1539\n",
      "})\n"
     ]
    }
   ],
   "source": [
    "dataset = Dataset.from_pandas(df_to_train)\n",
    "print(dataset)"
   ]
  },
  {
   "cell_type": "code",
   "execution_count": 17,
   "id": "7176c334",
   "metadata": {},
   "outputs": [
    {
     "name": "stdout",
     "output_type": "stream",
     "text": [
      "<class 'datasets.arrow_dataset.Dataset'>\n"
     ]
    }
   ],
   "source": [
    "print(type(dataset))"
   ]
  },
  {
   "cell_type": "code",
   "execution_count": 18,
   "id": "b27f9e5e",
   "metadata": {},
   "outputs": [
    {
     "name": "stdout",
     "output_type": "stream",
     "text": [
      "DatasetDict({\n",
      "    train: Dataset({\n",
      "        features: ['sentence_id', 'tokens', 'srl_tags_name', 'srl_tags'],\n",
      "        num_rows: 1385\n",
      "    })\n",
      "    test: Dataset({\n",
      "        features: ['sentence_id', 'tokens', 'srl_tags_name', 'srl_tags'],\n",
      "        num_rows: 77\n",
      "    })\n",
      "    validation: Dataset({\n",
      "        features: ['sentence_id', 'tokens', 'srl_tags_name', 'srl_tags'],\n",
      "        num_rows: 77\n",
      "    })\n",
      "})\n"
     ]
    }
   ],
   "source": [
    "# 90% train, 10% test + validation\n",
    "train_testvalid = dataset.train_test_split(test_size=0.1)\n",
    "\n",
    "# Split the 10% test + valid in half test, half valid\n",
    "test_valid = train_testvalid['test'].train_test_split(test_size=0.5)\n",
    "\n",
    "# Collect the two into a single DatasetDict\n",
    "datasets = DatasetDict({\n",
    "    'train': train_testvalid['train'],\n",
    "    'test': test_valid['test'],\n",
    "    'validation': test_valid['train']})\n",
    "print(datasets)"
   ]
  },
  {
   "cell_type": "markdown",
   "id": "38fe44b1",
   "metadata": {},
   "source": [
    "### Tokenization"
   ]
  },
  {
   "cell_type": "code",
   "execution_count": 19,
   "id": "eb7de1d5",
   "metadata": {},
   "outputs": [],
   "source": [
    "from transformers import AutoTokenizer\n",
    "tokenizer = AutoTokenizer.from_pretrained(\"distilbert-base-uncased\")"
   ]
  },
  {
   "cell_type": "code",
   "execution_count": 20,
   "id": "b5004ec8",
   "metadata": {},
   "outputs": [],
   "source": [
    "import transformers\n",
    "assert isinstance(tokenizer, transformers.PreTrainedTokenizerFast)"
   ]
  },
  {
   "cell_type": "code",
   "execution_count": 21,
   "id": "52f536e9",
   "metadata": {},
   "outputs": [
    {
     "name": "stdout",
     "output_type": "stream",
     "text": [
      "{'input_ids': [101, 1045, 1010, 2293, 2017, 1012, 102], 'attention_mask': [1, 1, 1, 1, 1, 1, 1]}\n"
     ]
    }
   ],
   "source": [
    " # try tokenizing with a test sentence\n",
    "tokenized_input = tokenizer([\"I\", \",\", \"love\", \"you\", \".\"], is_split_into_words=True)\n",
    "print(tokenized_input)"
   ]
  },
  {
   "cell_type": "code",
   "execution_count": 22,
   "id": "7f797190",
   "metadata": {},
   "outputs": [
    {
     "name": "stdout",
     "output_type": "stream",
     "text": [
      "['The', 'Chair', 'of', 'the', 'Board', 'shall', ',', 'without', 'undue', ',', 'delay', 'inform', 'by', 'electronic', 'means', 'the', 'supervisory', 'authority', 'referred', 'to', ',', 'as', 'the', 'case', 'may', 'be', ',', 'in', 'paragraphs', '1', 'and', '2', ',', 'and', 'the', 'Commission', 'of', 'the', 'opinion', 'and', 'make', 'it', 'public', '.']\n"
     ]
    }
   ],
   "source": [
    "# print an example sentence from our dataset\n",
    "example = datasets[\"train\"][9]\n",
    "print(example[\"tokens\"])"
   ]
  },
  {
   "cell_type": "code",
   "execution_count": 23,
   "id": "cc76bd8a",
   "metadata": {},
   "outputs": [
    {
     "name": "stdout",
     "output_type": "stream",
     "text": [
      "['[CLS]', 'the', 'chair', 'of', 'the', 'board', 'shall', ',', 'without', 'und', '##ue', ',', 'delay', 'inform', 'by', 'electronic', 'means', 'the', 'supervisory', 'authority', 'referred', 'to', ',', 'as', 'the', 'case', 'may', 'be', ',', 'in', 'paragraph', '##s', '1', 'and', '2', ',', 'and', 'the', 'commission', 'of', 'the', 'opinion', 'and', 'make', 'it', 'public', '.', '[SEP]']\n"
     ]
    }
   ],
   "source": [
    "#try tokenizing this sentence from our dataset\n",
    "tokenized_input = tokenizer(example[\"tokens\"], is_split_into_words=True)\n",
    "tokens = tokenizer.convert_ids_to_tokens(tokenized_input[\"input_ids\"])\n",
    "print(tokens)"
   ]
  },
  {
   "cell_type": "markdown",
   "id": "4faac578",
   "metadata": {},
   "source": [
    "### The real job"
   ]
  },
  {
   "cell_type": "code",
   "execution_count": 24,
   "id": "4c6e3366",
   "metadata": {},
   "outputs": [],
   "source": [
    "def tokenize_and_align_labels(examples, label_all_tokens = True):\n",
    "    tokenized_inputs = tokenizer(examples[\"tokens\"], truncation=True, is_split_into_words=True)\n",
    "\n",
    "    labels = []\n",
    "    for i, label in enumerate(examples[\"srl_tags\"]):\n",
    "        word_ids = tokenized_inputs.word_ids(batch_index=i)\n",
    "        previous_word_idx = None\n",
    "        label_ids = []\n",
    "        for word_idx in word_ids:\n",
    "            # Special tokens have a word id that is None. We set the label to -100 so they are automatically\n",
    "            # ignored in the loss function.\n",
    "            if word_idx is None:\n",
    "                label_ids.append(-100)\n",
    "            # We set the label for the first token of each word.\n",
    "            elif word_idx != previous_word_idx:\n",
    "                label_ids.append(label[word_idx])\n",
    "            # For the other tokens in a word, we set the label to either the current label or -100, depending on\n",
    "            # the label_all_tokens flag.\n",
    "            else:\n",
    "                label_ids.append(label[word_idx] if label_all_tokens else -100)\n",
    "            previous_word_idx = word_idx\n",
    "\n",
    "        labels.append(label_ids)\n",
    "\n",
    "    tokenized_inputs[\"labels\"] = labels\n",
    "    return tokenized_inputs\n",
    "\n",
    "preprocessed_input = tokenize_and_align_labels(datasets['train'][:5])"
   ]
  },
  {
   "cell_type": "code",
   "execution_count": 25,
   "id": "8c49d7da",
   "metadata": {},
   "outputs": [
    {
     "name": "stdout",
     "output_type": "stream",
     "text": [
      "input_ids\n",
      "attention_mask\n",
      "labels\n"
     ]
    }
   ],
   "source": [
    "for thing in preprocessed_input:\n",
    "    print(thing)"
   ]
  },
  {
   "cell_type": "code",
   "execution_count": 26,
   "id": "dcfed443",
   "metadata": {},
   "outputs": [
    {
     "data": {
      "application/vnd.jupyter.widget-view+json": {
       "model_id": "",
       "version_major": 2,
       "version_minor": 0
      },
      "text/plain": [
       "Map:   0%|          | 0/1385 [00:00<?, ? examples/s]"
      ]
     },
     "metadata": {},
     "output_type": "display_data"
    },
    {
     "data": {
      "application/vnd.jupyter.widget-view+json": {
       "model_id": "",
       "version_major": 2,
       "version_minor": 0
      },
      "text/plain": [
       "Map:   0%|          | 0/77 [00:00<?, ? examples/s]"
      ]
     },
     "metadata": {},
     "output_type": "display_data"
    },
    {
     "data": {
      "application/vnd.jupyter.widget-view+json": {
       "model_id": "",
       "version_major": 2,
       "version_minor": 0
      },
      "text/plain": [
       "Map:   0%|          | 0/77 [00:00<?, ? examples/s]"
      ]
     },
     "metadata": {},
     "output_type": "display_data"
    }
   ],
   "source": [
    "tokenized_datasets = datasets.map(tokenize_and_align_labels, batched=True)"
   ]
  },
  {
   "cell_type": "code",
   "execution_count": 27,
   "id": "4071a193",
   "metadata": {
    "scrolled": true
   },
   "outputs": [
    {
     "name": "stdout",
     "output_type": "stream",
     "text": [
      "DatasetDict({\n",
      "    train: Dataset({\n",
      "        features: ['sentence_id', 'tokens', 'srl_tags_name', 'srl_tags', 'input_ids', 'attention_mask', 'labels'],\n",
      "        num_rows: 1385\n",
      "    })\n",
      "    test: Dataset({\n",
      "        features: ['sentence_id', 'tokens', 'srl_tags_name', 'srl_tags', 'input_ids', 'attention_mask', 'labels'],\n",
      "        num_rows: 77\n",
      "    })\n",
      "    validation: Dataset({\n",
      "        features: ['sentence_id', 'tokens', 'srl_tags_name', 'srl_tags', 'input_ids', 'attention_mask', 'labels'],\n",
      "        num_rows: 77\n",
      "    })\n",
      "})\n"
     ]
    },
    {
     "data": {
      "application/vnd.jupyter.widget-view+json": {
       "model_id": "",
       "version_major": 2,
       "version_minor": 0
      },
      "text/plain": [
       "Saving the dataset (0/1 shards):   0%|          | 0/1385 [00:00<?, ? examples/s]"
      ]
     },
     "metadata": {},
     "output_type": "display_data"
    },
    {
     "data": {
      "application/vnd.jupyter.widget-view+json": {
       "model_id": "",
       "version_major": 2,
       "version_minor": 0
      },
      "text/plain": [
       "Saving the dataset (0/1 shards):   0%|          | 0/77 [00:00<?, ? examples/s]"
      ]
     },
     "metadata": {},
     "output_type": "display_data"
    },
    {
     "data": {
      "application/vnd.jupyter.widget-view+json": {
       "model_id": "",
       "version_major": 2,
       "version_minor": 0
      },
      "text/plain": [
       "Saving the dataset (0/1 shards):   0%|          | 0/77 [00:00<?, ? examples/s]"
      ]
     },
     "metadata": {},
     "output_type": "display_data"
    }
   ],
   "source": [
    "print(tokenized_datasets)\n",
    "tokenized_datasets.save_to_disk(\"dataset\")"
   ]
  },
  {
   "cell_type": "markdown",
   "id": "43c689f1",
   "metadata": {},
   "source": [
    "### Fine tuning the model"
   ]
  },
  {
   "cell_type": "code",
   "execution_count": 28,
   "id": "47b34edb",
   "metadata": {},
   "outputs": [
    {
     "name": "stdout",
     "output_type": "stream",
     "text": [
      "{',', ':', 'Object', 'Action', 'Actor', '.', '!', 'O', 'Recipient'}\n"
     ]
    },
    {
     "name": "stderr",
     "output_type": "stream",
     "text": [
      "Some weights of DistilBertForTokenClassification were not initialized from the model checkpoint at distilbert-base-uncased and are newly initialized: ['classifier.weight', 'classifier.bias']\n",
      "You should probably TRAIN this model on a down-stream task to be able to use it for predictions and inference.\n"
     ]
    }
   ],
   "source": [
    "srl_tags_set = set(itertools.chain.from_iterable(tokenized_datasets['train']['srl_tags_name']))\n",
    "print(srl_tags_set)\n",
    "model = AutoModelForTokenClassification.from_pretrained(\"distilbert-base-uncased\", num_labels=len(srl_tags_set))"
   ]
  },
  {
   "cell_type": "code",
   "execution_count": 29,
   "id": "5df738bd",
   "metadata": {},
   "outputs": [],
   "source": [
    "#!pip install transformers[torch]\n",
    "#pip install accelerate -U\n",
    "#pip install accelerate>=0.20.1\n",
    "batch_size = 8\n",
    "\n",
    "args = TrainingArguments(\n",
    "    output_dir=\".\",\n",
    "    evaluation_strategy = \"epoch\",\n",
    "    learning_rate=5e-5,\n",
    "    #per_device_train_batch_size=batch_size,\n",
    "    #per_device_eval_batch_size=batch_size,\n",
    "    num_train_epochs=4,\n",
    "    weight_decay=0.01\n",
    ")"
   ]
  },
  {
   "cell_type": "markdown",
   "id": "4198c5c4",
   "metadata": {},
   "source": [
    "Collator batches and pads the examples to the same length. Also, pads the resulting labels accordingly"
   ]
  },
  {
   "cell_type": "code",
   "execution_count": 30,
   "id": "251781a0",
   "metadata": {},
   "outputs": [],
   "source": [
    "data_collator = DataCollatorForTokenClassification(tokenizer)"
   ]
  },
  {
   "cell_type": "markdown",
   "id": "6812e7eb",
   "metadata": {},
   "source": [
    "Metric to use"
   ]
  },
  {
   "cell_type": "code",
   "execution_count": 31,
   "id": "ae3ed78a",
   "metadata": {},
   "outputs": [
    {
     "name": "stderr",
     "output_type": "stream",
     "text": [
      "C:\\Users\\dimts\\AppData\\Local\\Temp\\ipykernel_14728\\1949868119.py:2: FutureWarning: load_metric is deprecated and will be removed in the next major version of datasets. Use 'evaluate.load' instead, from the new library 🤗 Evaluate: https://huggingface.co/docs/evaluate\n",
      "  metric = load_metric(\"seqeval\")\n"
     ]
    }
   ],
   "source": [
    "#!pip install seqeval\n",
    "metric = load_metric(\"seqeval\")"
   ]
  },
  {
   "cell_type": "code",
   "execution_count": 32,
   "id": "0426a1bc",
   "metadata": {},
   "outputs": [],
   "source": [
    "#label_list = [\"O\", \"Action\", \"Actor\", \"Object\", \"Recipient\"]\n",
    "label_list = list(srl_tags_set)\n",
    "labels_str = tokenized_datasets['train']['srl_tags_name'][0]\n",
    "labels_indices = [label_list.index(label) for label in labels_str]\n",
    "\n",
    "#metric.compute(predictions=[labels_indices], references=[labels_indices])"
   ]
  },
  {
   "cell_type": "markdown",
   "id": "6bb25a81",
   "metadata": {},
   "source": [
    "Post-processing the predictions"
   ]
  },
  {
   "cell_type": "code",
   "execution_count": 33,
   "id": "be829d44",
   "metadata": {},
   "outputs": [],
   "source": [
    "def compute_metrics(p):\n",
    "    predictions, labels = p\n",
    "    predictions = np.argmax(predictions, axis=2)\n",
    "\n",
    "    # Remove ignored index (special tokens)\n",
    "    true_predictions = [\n",
    "        [label_list[p] for (p, l) in zip(prediction, label) if l != -100]\n",
    "        for prediction, label in zip(predictions, labels)\n",
    "    ]\n",
    "    true_labels = [\n",
    "        [label_list[l] for (p, l) in zip(prediction, label) if l != -100]\n",
    "        for prediction, label in zip(predictions, labels)\n",
    "    ]\n",
    "\n",
    "    results = metric.compute(predictions=true_predictions, references=true_labels)\n",
    "    return {\n",
    "        \"precision\": results[\"overall_precision\"],\n",
    "        \"recall\": results[\"overall_recall\"],\n",
    "        \"f1\": results[\"overall_f1\"],\n",
    "        \"accuracy\": results[\"overall_accuracy\"],\n",
    "    }"
   ]
  },
  {
   "cell_type": "code",
   "execution_count": null,
   "id": "838c7fb7-435b-448c-9f44-2c6ddac96813",
   "metadata": {},
   "outputs": [],
   "source": []
  },
  {
   "cell_type": "code",
   "execution_count": 34,
   "id": "ecabac21",
   "metadata": {},
   "outputs": [
    {
     "data": {
      "application/vnd.jupyter.widget-view+json": {
       "model_id": "",
       "version_major": 2,
       "version_minor": 0
      },
      "text/plain": [
       "Map:   0%|          | 0/1385 [00:00<?, ? examples/s]"
      ]
     },
     "metadata": {},
     "output_type": "display_data"
    },
    {
     "data": {
      "application/vnd.jupyter.widget-view+json": {
       "model_id": "",
       "version_major": 2,
       "version_minor": 0
      },
      "text/plain": [
       "Map:   0%|          | 0/77 [00:00<?, ? examples/s]"
      ]
     },
     "metadata": {},
     "output_type": "display_data"
    },
    {
     "data": {
      "application/vnd.jupyter.widget-view+json": {
       "model_id": "",
       "version_major": 2,
       "version_minor": 0
      },
      "text/plain": [
       "Map:   0%|          | 0/77 [00:00<?, ? examples/s]"
      ]
     },
     "metadata": {},
     "output_type": "display_data"
    }
   ],
   "source": [
    "#Replace other None values (commans, periods etc) to 0\n",
    "\n",
    "tokenized_datasets['train'] = tokenized_datasets['train'].map(\n",
    "    lambda example: {'labels': [0 if label is None else label for label in example['labels']]}\n",
    ")\n",
    "\n",
    "tokenized_datasets['validation'] = tokenized_datasets['validation'].map(\n",
    "    lambda example: {'labels': [0 if label is None else label for label in example['labels']]}\n",
    ")\n",
    "\n",
    "tokenized_datasets['test'] = tokenized_datasets['test'].map(\n",
    "    lambda example: {'labels': [0 if label is None else label for label in example['labels']]}\n",
    ")"
   ]
  },
  {
   "cell_type": "code",
   "execution_count": 35,
   "id": "f5f328e2",
   "metadata": {},
   "outputs": [],
   "source": [
    "trainer = Trainer(\n",
    "    model=model,\n",
    "    args=args,\n",
    "    train_dataset=tokenized_datasets[\"train\"],\n",
    "    eval_dataset=tokenized_datasets[\"validation\"],\n",
    "    data_collator=data_collator,\n",
    "    tokenizer=tokenizer,\n",
    "    compute_metrics=compute_metrics\n",
    ")\n",
    "#trainer.train()"
   ]
  },
  {
   "cell_type": "markdown",
   "id": "7fcff688",
   "metadata": {},
   "source": [
    "Save and reload the model"
   ]
  },
  {
   "cell_type": "code",
   "execution_count": 36,
   "id": "20cf91f7",
   "metadata": {},
   "outputs": [],
   "source": [
    "trainer.save_model(\"./trained_model\")\n",
    "model = AutoModelForTokenClassification.from_pretrained(\"./trained_model\")"
   ]
  },
  {
   "cell_type": "markdown",
   "id": "6ab43cf3-3e95-4389-a2eb-b07801078d95",
   "metadata": {},
   "source": [
    "### Predict for a training example"
   ]
  },
  {
   "cell_type": "code",
   "execution_count": 37,
   "id": "329e7510",
   "metadata": {},
   "outputs": [],
   "source": [
    "#seq = \"The lead supervisory authority shall , without delay , communicate the relevant information on the matter to the other supervisory authorities concerned . \"\n",
    "seq = \"It shall identify possible events or future changes in economic conditions that could have unfavourable effects on an institution's credit exposures and assess the institution's ability to withstand such changes .  \"\n",
    "tokens = tokenizer.tokenize(tokenizer.decode(tokenizer.encode(seq)))\n",
    "inputs = tokenizer.encode(seq, return_tensors=\"pt\")\n",
    "\n",
    "outputs = model(inputs)[0]\n",
    "predictions = torch.argmax(outputs, dim=2)\n",
    "# Get the positions of [CLS] and [SEP] in the tokenized sequence\n",
    "cls_index = tokens.index('[CLS]')\n",
    "sep_index = tokens.index('[SEP]')\n",
    "\n",
    "# Set labels for [CLS] and [SEP] tokens to -100\n",
    "predictions[0, cls_index] = -100\n",
    "predictions[0, sep_index] = -100"
   ]
  },
  {
   "cell_type": "code",
   "execution_count": 38,
   "id": "fd6a2608",
   "metadata": {},
   "outputs": [
    {
     "name": "stdout",
     "output_type": "stream",
     "text": [
      "['[CLS]', 'it', 'shall', 'identify', 'possible', 'events', 'or', 'future', 'changes', 'in', 'economic', 'conditions', 'that', 'could', 'have', 'un', '##fa', '##vo', '##urable', 'effects', 'on', 'an', 'institution', \"'\", 's', 'credit', 'exposure', '##s', 'and', 'assess', 'the', 'institution', \"'\", 's', 'ability', 'to', 'withstand', 'such', 'changes', '.', '[SEP]']  / \n",
      "tensor([[-100,    2,    1,    1,    3,    3,    3,    3,    3,    3,    3,    3,\n",
      "            3,    3,    3,    3,    3,    3,    3,    3,    3,    3,    3,    3,\n",
      "            3,    3,    3,    3,    0,    1,    3,    3,    3,    3,    3,    3,\n",
      "            3,    3,    3,    0, -100]])\n"
     ]
    }
   ],
   "source": [
    "print(tokens, \" / \")\n",
    "print(predictions)"
   ]
  },
  {
   "cell_type": "code",
   "execution_count": 40,
   "id": "8ac28194-973f-4a33-af0e-17d25feabf95",
   "metadata": {},
   "outputs": [
    {
     "name": "stdout",
     "output_type": "stream",
     "text": [
      "['For', 'exposures', 'to', 'corporates', 'situated', 'in', 'the', 'Union', 'and', 'having', 'consolidated', 'sales', 'and', 'consolidated', 'assets', 'of', 'less', 'than', 'EUR', '500', 'million', ',', 'institutions', 'may', 'choose', 'to', 'consistently', 'set', 'M', 'as', 'set', 'out', 'in', 'paragraph', '1', 'instead', 'of', 'applying', 'paragraph', '2', '.']\n",
      "[101, 2005, 7524, 2015, 2000, 5971, 2015, 4350, 1999, 1996, 2586, 1998, 2383, 10495, 4341, 1998, 10495, 7045, 1997, 2625, 2084, 7327, 2099, 3156, 2454, 1010, 4896, 2089, 5454, 2000, 10862, 2275, 1049, 2004, 2275, 2041, 1999, 20423, 1015, 2612, 1997, 11243, 20423, 1016, 1012, 102]\n"
     ]
    }
   ],
   "source": [
    "print(tokenized_datasets['train']['tokens'][2])\n",
    "print(tokenized_datasets['train']['input_ids'][2])"
   ]
  },
  {
   "cell_type": "code",
   "execution_count": null,
   "id": "61f76e84-4294-45f9-a3bd-dabd804e52d3",
   "metadata": {},
   "outputs": [],
   "source": []
  },
  {
   "cell_type": "code",
   "execution_count": 39,
   "id": "3c942e4f",
   "metadata": {},
   "outputs": [
    {
     "name": "stdout",
     "output_type": "stream",
     "text": [
      "['[CLS]', 'where', 'requests', 'from', 'a', 'data', 'subject', 'are', 'manifest', '##ly', 'un', '##founded', 'or', 'excessive', 'in', 'particular', 'because', 'of', 'their', 'repetitive', 'character', 'the', 'controller', 'may', 'either', 'charge', 'a', 'reasonable', 'fee', 'taking', 'into', 'account', 'the', 'administrative', 'costs', 'of', 'providing', 'the', 'information', 'or', 'communication', 'or', 'taking', 'the', 'action', 'requested', 'or', '[SEP]']\n",
      "tensor([[  101,  2073, 11186,  2013,  1037,  2951,  3395,  2024, 19676,  2135,\n",
      "          4895, 21001,  2030, 11664,  1999,  3327,  2138,  1997,  2037, 23563,\n",
      "          2839,  1996, 11486,  2089,  2593,  3715,  1037,  9608,  7408,  2635,\n",
      "          2046,  4070,  1996,  3831,  5366,  1997,  4346,  1996,  2592,  2030,\n",
      "          4807,  2030,  2635,  1996,  2895,  7303,  2030,   102]])\n",
      "tensor([[-100,    0,    0,    0,    0,    0,    0,    0,    0,    0,    0,    0,\n",
      "            0,    0,    0,    0,    0,    0,    0,    0,    0,    2,    2,    1,\n",
      "            0,    1,    3,    3,    3,    0,    0,    0,    0,    0,    0,    0,\n",
      "            0,    0,    0,    0,    0,    0,    0,    0,    0,    0,    0, -100]])\n",
      "\n",
      "\n",
      "\n"
     ]
    }
   ],
   "source": [
    "for sequence, labels in zip(tokenized_datasets['test']['tokens'], tokenized_datasets['test']['labels']):\n",
    "    sequence = ' '.join(sequence)\n",
    "    sequence = sequence.translate(str.maketrans('', '', string.punctuation))\n",
    "    tokens = tokenizer.tokenize(tokenizer.decode(tokenizer.encode(sequence)))\n",
    "    inputs = tokenizer.encode(sequence, return_tensors=\"pt\")\n",
    "\n",
    "    outputs = model(inputs)[0]\n",
    "    predictions = torch.argmax(outputs, dim=2)\n",
    "\n",
    "    cls_index = tokens.index('[CLS]')\n",
    "    sep_index = tokens.index('[SEP]')\n",
    "    \n",
    "    # Set labels for [CLS] and [SEP] tokens to -100\n",
    "    predictions[0, cls_index] = -100\n",
    "    predictions[0, sep_index] = -100\n",
    "    \n",
    "    print(tokens)\n",
    "    print(inputs) #, '\\n', [(token, label_list[prediction]) for token, prediction in zip(tokens, predictions[0].tolist())], '\\n')\n",
    "    print(predictions)\n",
    "    print(\"\\n\\n\")\n",
    "    break"
   ]
  }
 ],
 "metadata": {
  "kernelspec": {
   "display_name": "Python 3 (ipykernel)",
   "language": "python",
   "name": "python3"
  },
  "language_info": {
   "codemirror_mode": {
    "name": "ipython",
    "version": 3
   },
   "file_extension": ".py",
   "mimetype": "text/x-python",
   "name": "python",
   "nbconvert_exporter": "python",
   "pygments_lexer": "ipython3",
   "version": "3.11.5"
  }
 },
 "nbformat": 4,
 "nbformat_minor": 5
}
